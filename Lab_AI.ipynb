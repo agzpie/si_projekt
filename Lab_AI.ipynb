{
 "cells": [
  {
   "cell_type": "markdown",
   "metadata": {},
   "source": [
    "<div class=\"alert alert-block alert-info\">\n",
    "<b>Zadanie 1:</b>\n",
    "<p>Wykorzystując środowisko Jupyter i bibliotekę Kanren(logpy) należy zbudować bazę wiedzy chorób określonych kodem ICD. Kody ICD to Międzynarodowa Statystyczna Klasyfikacja Chorób i Problemów zdrowotnych czyli kody, które w kilku literach i cyfrach pozwalają określić chorobę.</p>\n",
    "<p>Do każdego kodu ICD9 należy przypisać:</p>\n",
    "    <p>1.   Symptomy tj. objawy występujące w chorobie, ich znalezienie u pacjenta jest równoznaczne z rozpoznaniem choroby.</p>\n",
    "    <p>2.\tCzynniki ryzyka choroby - są to cechy indywidualne oraz elementy stylu życia zwiększające ryzyko wystąpienia choroby.</p>\n",
    "<p>Baza wiedzy musi pozwalać na zadawanie pytań przy użyci biblioteki Kanren np. takich jak:</p>\n",
    "<p>1. Jakie są symptomy choroby \"A\".</p>\n",
    "<p>2. Jaki są czynniki ryzyka choroby \"B\".</p>\n",
    "<p>3. Jeżeli występują symptomy takie jak \"A, B, C\" to chorobą jest ?.</p>\n",
    "<p>4. Na jakie chorby może cierpieć pacjent jeżeli zdjagnozowano następujące czynniki ryzyka i symptomy \"A, B, C, D, E\".</p>\n",
    "</div>"
   ]
  },
  {
   "cell_type": "markdown",
   "metadata": {},
   "source": [
    "<div class=\"alert alert-block alert-success\">\n",
    "<b>Zadanie 2:</b> \n",
    "<p>Wykorzystując środowisko Jupyter, bibliotekę \"sklearn\" i zbudowaną bazę wiedzy z punktu 1 należy zbudować prosty klasyfikator używając do tego drzewo decyzyjnego.</p>\n",
    "<p>Klasyfikator ma potrafić odpowiedzieć na pytania:</p>\n",
    "<p>Na jaką chorobę cierpi pacjent u którego występują następujące symptomy: \"X, Y, Z\" i czynniki ryzyka: \"Q, A, Z\"</p>\n",
    "<p>Kody ICD wraz z symptomami i czynnikami musza zostać zobrazowane w postaci tabeli.</p>\n",
    "<p>Drzewo decyzyjne musi być zobrazowane przy użyciu dowolnej biblioteki dostępnej w środowisku Python.</p>\n",
    "</div>"
   ]
  },
  {
   "cell_type": "markdown",
   "metadata": {},
   "source": [
    "<div class=\"alert alert-block alert-warning\">\n",
    "<b>Pomocne linki</b>\n",
    "<p>https://www.tutorialspoint.com/python/index.htm</p>\n",
    "<p>https://developers.google.com/edu/python/</p>\n",
    "<p>https://www.anaconda.com/download/</p>\n",
    "<p>https://github.com/logpy/logpy</p>\n",
    "<p>https://jeffersonheard.github.io/2016/11/simplifying-complex-business-logic-with-pythons-kanren/</p>\n",
    "<p>https://scikit-learn.org/stable/index.html</p>\n",
    "<p>https://en.wikipedia.org/wiki/List_of_ICD-9_codes</p>\n",
    "<p>http://www.icd9data.com/</p>\n",
    "</div>"
   ]
  },
  {
   "cell_type": "markdown",
   "metadata": {},
   "source": [
    "<div class=\"alert alert-block alert-info\">\n",
    "<b>Przykład do zadania 1:</b> \n",
    "</div>"
   ]
  },
  {
   "cell_type": "code",
   "execution_count": null,
   "metadata": {
    "collapsed": true
   },
   "outputs": [],
   "source": [
    "from kanren import Relation, facts, run, conde, var, eq\n",
    "\n",
    "father = Relation()\n",
    "mother = Relation()"
   ]
  },
  {
   "cell_type": "markdown",
   "metadata": {},
   "source": [
    "<div class=\"alert alert-block alert-info\">\n",
    "<p>kanren przechowuje dane jako fakty, które określają związki między terminami.</P>\n",
    "<p>Poniższy kod tworzy relację nadrzędną i wykorzystuje ją do określenia faktów dotyczących tego, kto jest rodzicem w rodzinie.</P>\n"
   ]
  },
  {
   "cell_type": "code",
   "execution_count": null,
   "metadata": {
    "collapsed": true
   },
   "outputs": [],
   "source": [
    "facts(father, ('Vito', 'Michael'),\n",
    "              ('Vito', 'Sonny'),\n",
    "              ('Vito', 'Fredo'),\n",
    "              ('Michael', 'Anthony'),\n",
    "              ('Michael', 'Mary'),\n",
    "              ('Sonny', 'Vicent'),\n",
    "              ('Sonny', 'Francesca'),\n",
    "              ('Sonny', 'Kathryn'),\n",
    "              ('Sonny', 'Frank'),\n",
    "              ('Sonny', 'Santino'))"
   ]
  },
  {
   "cell_type": "code",
   "execution_count": null,
   "metadata": {
    "collapsed": true
   },
   "outputs": [],
   "source": [
    "facts(mother, ('Carmela', 'Michael'),\n",
    "              ('Carmela', 'Sonny'),\n",
    "              ('Carmela', 'Fredo'),\n",
    "              ('Kay', 'Mary'),\n",
    "              ('Kay', 'Anthony'),\n",
    "              ('Sandra', 'Francesca'),\n",
    "              ('Sandra', 'Kathryn'),\n",
    "              ('Sandra', 'Frank'),\n",
    "              ('Sandra', 'Santino'))"
   ]
  },
  {
   "cell_type": "code",
   "execution_count": null,
   "metadata": {
    "collapsed": true
   },
   "outputs": [],
   "source": [
    "q = var() #deklaracja zmiennej 'q'"
   ]
  },
  {
   "cell_type": "markdown",
   "metadata": {},
   "source": [
    "<div class=\"alert alert-block alert-success\">\n",
    "<p>Pytanie: Vito jest ojcem kogo?</p>\n",
    "<p>1. Liczba wyników, które chcemy wyświetlić</p>\n",
    "<p>2. Zmienne, których wartości są przedmiotem zainteresowania</p>\n",
    "<p>3. Zbiór reguł definiujący przestrzeń prawidłowych wartości dla zmiennej </P>"
   ]
  },
  {
   "cell_type": "code",
   "execution_count": null,
   "metadata": {
    "collapsed": true
   },
   "outputs": [],
   "source": [
    "print((run(0, q, father('Vito', q))))       \n"
   ]
  },
  {
   "cell_type": "code",
   "execution_count": null,
   "metadata": {
    "collapsed": true
   },
   "outputs": [],
   "source": [
    "print((run(0, q, father(q, 'Michael'))))       # Kto jest ojcem Michaela?"
   ]
  },
  {
   "cell_type": "code",
   "execution_count": null,
   "metadata": {
    "collapsed": true
   },
   "outputs": [],
   "source": [
    "def parent(p, child):\n",
    "    return conde([father(p, child)], [mother(p, child)])"
   ]
  },
  {
   "cell_type": "code",
   "execution_count": 16,
   "metadata": {},
   "outputs": [
    {
     "name": "stdout",
     "output_type": "stream",
     "text": [
      "('Vito', 'Carmela')\n"
     ]
    }
   ],
   "source": [
    "print((run(0, q, parent(q, 'Michael'))))       # Kto jest rodzicem Michaela?"
   ]
  },
  {
   "cell_type": "code",
   "execution_count": 17,
   "metadata": {
    "collapsed": true
   },
   "outputs": [],
   "source": [
    "def grandparent(gparent, child):\n",
    "    p = var()\n",
    "    return conde((parent(gparent, p), parent(p, child)))"
   ]
  },
  {
   "cell_type": "code",
   "execution_count": 18,
   "metadata": {},
   "outputs": [
    {
     "name": "stdout",
     "output_type": "stream",
     "text": [
      "('Carmela', 'Vito')\n"
     ]
    }
   ],
   "source": [
    "print((run(0, q, grandparent(q, 'Anthony'))))  # Kto jest dziadkiem Anthony'ego?"
   ]
  },
  {
   "cell_type": "code",
   "execution_count": 19,
   "metadata": {},
   "outputs": [
    {
     "name": "stdout",
     "output_type": "stream",
     "text": [
      "('Vicent', 'Anthony', 'Francesca', 'Mary', 'Kathryn', 'Frank', 'Santino')\n"
     ]
    }
   ],
   "source": [
    "print((run(0, q, grandparent('Vito', q))))     # Vito jest dziadkiem dla kogo?"
   ]
  },
  {
   "cell_type": "markdown",
   "metadata": {},
   "source": [
    "<div class=\"alert alert-block alert-info\">\n",
    "<b>Przykład do zadania 2:</b> \n",
    "</div>"
   ]
  },
  {
   "cell_type": "code",
   "execution_count": 39,
   "metadata": {
    "collapsed": true
   },
   "outputs": [],
   "source": [
    "from sklearn import tree\n",
    "\n",
    "# Imput to the classifier\n",
    "# as of Scikit-learn uses real-valued features, we use:\n",
    "# 0: bumpy\n",
    "# 1: smooth\n",
    "#\n",
    "# features = [\n",
    "#    [140, 'smooth'],\n",
    "#    [130, 'smooth'],\n",
    "#    [150, 'bumpy'],\n",
    "#    [170, 'bumpy'],\n",
    "# ]\n",
    "\n",
    "features = [\n",
    "    [1, 1, 0, 1, 0],\n",
    "    [1, 0, 0, 1, 1],\n",
    "    [0, 0, 1, 1, 1],\n",
    "    [0, 0, 1, 0, 1],\n",
    "]"
   ]
  },
  {
   "cell_type": "code",
   "execution_count": 40,
   "metadata": {
    "collapsed": true
   },
   "outputs": [],
   "source": [
    "# Output that we want from classifier\n",
    "# as of Scikit-learn uses real-valued features, we use:\n",
    "# 0: apple\n",
    "# 1: orange\n",
    "#\n",
    "# labels = ['apple', 'apple', 'orange', 'orange']\n",
    "labels = [1, 2, 3, 4]"
   ]
  },
  {
   "cell_type": "code",
   "execution_count": 41,
   "metadata": {
    "collapsed": true
   },
   "outputs": [],
   "source": [
    "# create decision tree\n",
    "clf = tree.DecisionTreeClassifier()"
   ]
  },
  {
   "cell_type": "code",
   "execution_count": 42,
   "metadata": {
    "collapsed": true
   },
   "outputs": [],
   "source": [
    "# fit - synonim to \"find patterns in data\"\n",
    "clf = clf.fit(features, labels)\n"
   ]
  },
  {
   "cell_type": "code",
   "execution_count": 45,
   "metadata": {},
   "outputs": [
    {
     "ename": "ValueError",
     "evalue": "Number of features of the model must match the input. Model n_features is 5 and input n_features is 4 ",
     "output_type": "error",
     "traceback": [
      "\u001b[1;31m---------------------------------------------------------------------------\u001b[0m",
      "\u001b[1;31mValueError\u001b[0m                                Traceback (most recent call last)",
      "\u001b[1;32m<ipython-input-45-9f8e5406785f>\u001b[0m in \u001b[0;36m<module>\u001b[1;34m()\u001b[0m\n\u001b[0;32m      1\u001b[0m \u001b[1;31m# use classifier to predict\u001b[0m\u001b[1;33m\u001b[0m\u001b[1;33m\u001b[0m\u001b[0m\n\u001b[1;32m----> 2\u001b[1;33m \u001b[0moutput\u001b[0m \u001b[1;33m=\u001b[0m \u001b[0mclf\u001b[0m\u001b[1;33m.\u001b[0m\u001b[0mpredict\u001b[0m\u001b[1;33m(\u001b[0m\u001b[1;33m[\u001b[0m\u001b[1;33m[\u001b[0m\u001b[1;36m1\u001b[0m\u001b[1;33m,\u001b[0m \u001b[1;36m0\u001b[0m\u001b[1;33m,\u001b[0m \u001b[1;36m1\u001b[0m\u001b[1;33m,\u001b[0m \u001b[1;36m1\u001b[0m\u001b[1;33m,\u001b[0m \u001b[1;33m]\u001b[0m\u001b[1;33m]\u001b[0m\u001b[1;33m)\u001b[0m\u001b[1;33m\u001b[0m\u001b[0m\n\u001b[0m",
      "\u001b[1;32mC:\\programy\\anaconda3\\lib\\site-packages\\sklearn\\tree\\tree.py\u001b[0m in \u001b[0;36mpredict\u001b[1;34m(self, X, check_input)\u001b[0m\n\u001b[0;32m    410\u001b[0m         \"\"\"\n\u001b[0;32m    411\u001b[0m         \u001b[0mcheck_is_fitted\u001b[0m\u001b[1;33m(\u001b[0m\u001b[0mself\u001b[0m\u001b[1;33m,\u001b[0m \u001b[1;34m'tree_'\u001b[0m\u001b[1;33m)\u001b[0m\u001b[1;33m\u001b[0m\u001b[0m\n\u001b[1;32m--> 412\u001b[1;33m         \u001b[0mX\u001b[0m \u001b[1;33m=\u001b[0m \u001b[0mself\u001b[0m\u001b[1;33m.\u001b[0m\u001b[0m_validate_X_predict\u001b[0m\u001b[1;33m(\u001b[0m\u001b[0mX\u001b[0m\u001b[1;33m,\u001b[0m \u001b[0mcheck_input\u001b[0m\u001b[1;33m)\u001b[0m\u001b[1;33m\u001b[0m\u001b[0m\n\u001b[0m\u001b[0;32m    413\u001b[0m         \u001b[0mproba\u001b[0m \u001b[1;33m=\u001b[0m \u001b[0mself\u001b[0m\u001b[1;33m.\u001b[0m\u001b[0mtree_\u001b[0m\u001b[1;33m.\u001b[0m\u001b[0mpredict\u001b[0m\u001b[1;33m(\u001b[0m\u001b[0mX\u001b[0m\u001b[1;33m)\u001b[0m\u001b[1;33m\u001b[0m\u001b[0m\n\u001b[0;32m    414\u001b[0m         \u001b[0mn_samples\u001b[0m \u001b[1;33m=\u001b[0m \u001b[0mX\u001b[0m\u001b[1;33m.\u001b[0m\u001b[0mshape\u001b[0m\u001b[1;33m[\u001b[0m\u001b[1;36m0\u001b[0m\u001b[1;33m]\u001b[0m\u001b[1;33m\u001b[0m\u001b[0m\n",
      "\u001b[1;32mC:\\programy\\anaconda3\\lib\\site-packages\\sklearn\\tree\\tree.py\u001b[0m in \u001b[0;36m_validate_X_predict\u001b[1;34m(self, X, check_input)\u001b[0m\n\u001b[0;32m    382\u001b[0m                              \u001b[1;34m\"match the input. Model n_features is %s and \"\u001b[0m\u001b[1;33m\u001b[0m\u001b[0m\n\u001b[0;32m    383\u001b[0m                              \u001b[1;34m\"input n_features is %s \"\u001b[0m\u001b[1;33m\u001b[0m\u001b[0m\n\u001b[1;32m--> 384\u001b[1;33m                              % (self.n_features_, n_features))\n\u001b[0m\u001b[0;32m    385\u001b[0m \u001b[1;33m\u001b[0m\u001b[0m\n\u001b[0;32m    386\u001b[0m         \u001b[1;32mreturn\u001b[0m \u001b[0mX\u001b[0m\u001b[1;33m\u001b[0m\u001b[0m\n",
      "\u001b[1;31mValueError\u001b[0m: Number of features of the model must match the input. Model n_features is 5 and input n_features is 4 "
     ]
    }
   ],
   "source": [
    "# use classifier to predict\n",
    "output = clf.predict([[1, 0, 1, 1, ]])"
   ]
  },
  {
   "cell_type": "code",
   "execution_count": 44,
   "metadata": {},
   "outputs": [
    {
     "name": "stdout",
     "output_type": "stream",
     "text": [
      "[3]\n"
     ]
    }
   ],
   "source": [
    "print(output)"
   ]
  },
  {
   "cell_type": "code",
   "execution_count": null,
   "metadata": {
    "collapsed": true
   },
   "outputs": [],
   "source": []
  },
  {
   "cell_type": "code",
   "execution_count": null,
   "metadata": {
    "collapsed": true
   },
   "outputs": [],
   "source": []
  }
 ],
 "metadata": {
  "kernelspec": {
   "display_name": "Python 3",
   "language": "python",
   "name": "python3"
  },
  "language_info": {
   "codemirror_mode": {
    "name": "ipython",
    "version": 3
   },
   "file_extension": ".py",
   "mimetype": "text/x-python",
   "name": "python",
   "nbconvert_exporter": "python",
   "pygments_lexer": "ipython3",
   "version": "3.7.1"
  }
 },
 "nbformat": 4,
 "nbformat_minor": 2
}
