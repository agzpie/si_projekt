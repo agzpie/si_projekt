{
 "cells": [
  {
   "cell_type": "code",
   "execution_count": 2,
   "metadata": {},
   "outputs": [
    {
     "name": "stdout",
     "output_type": "stream",
     "text": [
      "projekt z si czy coś\n"
     ]
    }
   ],
   "source": [
    "import sys\n",
    "import os\n",
    "from kanren import Relation, facts, run, conde, var, eq\n",
    "\n",
    "print(\"projekt z si czy coś\")\n",
    "\n",
    "symptom = Relation()\n",
    "ryzyko = Relation()\n",
    "abc=555"
   ]
  },
  {
   "cell_type": "code",
   "execution_count": 3,
   "metadata": {},
   "outputs": [],
   "source": [
    "facts(symptom,('Powiklania sercowe', 'dusznosc'),\n",
    "     ('Powiklania sercowe', 'bol w klatce piersiowej'),\n",
    "     ('Powiklania sercowe', 'tachykardia'),\n",
    "     ('Powiklania sercowe', 'oslabienie'),\n",
    "     ('Angioplastyka naczyn wiencowych', 'zawal serca'),\n",
    "     ('Angioplastyka naczyn wiencowych', 'udar mozgu'),\n",
    "     ('Angioplastyka naczyn wiencowych', 'zaburzenia rytmu serca'),\n",
    "     ('Angioplastyka naczyn wiencowych', 'pekniecie sciany naczynia'),\n",
    "     ('Angioplastyka naczyn wiencowych', 'zgon'),\n",
    "     ('Zoltaczka noworodkowa wczesniaka', 'zolta barwa skory'),\n",
    "     ('Zoltaczka noworodkowa wczesniaka', 'zolta barwa oczu'),\n",
    "     ('Ostra niewydolnosc nerek', 'wymioty'),\n",
    "     ('Ostra niewydolnosc nerek', 'biegunka'),\n",
    "     ('Ostra niewydolnosc nerek', 'odwodnienie'),\n",
    "     ('Ostra niewydolnosc nerek', 'krwotok'),\n",
    "     ('Ostra niewydolnosc nerek', 'niewydolnosc serca'),\n",
    "     ('Hipernatremia', 'nudnosci'),\n",
    "     ('Hipernatremia', 'oslabienie'),\n",
    "     ('Hipernatremia', 'bol glowy'),\n",
    "     ('Hipernatremia', 'zaburzenia swiadomosci'),\n",
    "     ('Hipernatremia', 'drgawki'),\n",
    "     ('Hipernatremia', 'spiaczka'),\n",
    "     ('Zapasc plucna', 'dusznosc'),\n",
    "     ('Zapasc plucna', 'plytki i szybki oddech'),\n",
    "     ('Zapasc plucna', 'tachykardia'),\n",
    "     ('Zapasc plucna', 'krwioplucie'),\n",
    "     ('Zapasc plucna', 'bol w klatce piersiowej'),\n",
    "     ('Choroby jatrogenne', 'pogorszenie stanu zdrowia'),\n",
    "     ('Choroby jatrogenne', 'wydluzenie czasu leczenia'),\n",
    "     ('Choroby jatrogenne', 'zgon'), \n",
    "     ('Obrzezanie', 'brak napletka'))\n",
    "     \n",
    "\n",
    "\n"
   ]
  },
  {
   "cell_type": "code",
   "execution_count": 4,
   "metadata": {},
   "outputs": [],
   "source": [
    "facts(ryzyko, ('Powiklania sercowe', 'infekcja'),\n",
    "      ('Angioplastyka naczyn wiencowych', 'zawal serca'),\n",
    "      ('Angioplastyka naczyn wiencowych', 'niestabilna choroba wiencowa'),\n",
    "      ('Angioplastyka naczyn wiencowych', 'stabilna choroba niedokrwienna'),\n",
    "      ('Angioplastyka naczyn wiencowych', 'cukrzyca'),\n",
    "      ('Angioplastyka naczyn wiencowych', 'niewydolnosc nerek'),\n",
    "      ('Zoltaczka noworodkowa wczesniaka', 'wysoki poziom wolnej bilirubiny'),\n",
    "      ('Zoltaczka noworodkowa wczesniaka', 'przedwczesne narodziny'),\n",
    "      ('Ostra niewydolnosc nerek', 'zmniejszenie przeplywu krwi przez nerki'),\n",
    "      ('Ostra niewydolnosc nerek', 'czynniki toksyczne'),\n",
    "      ('Ostra niewydolnosc nerek', 'krwotok'),\n",
    "      ('Ostra niewydolnosc nerek', 'odwodnienie'),\n",
    "      ('Ostra niewydolnosc nerek', 'biegunka'),\n",
    "      ('Ostra niewydolnosc nerek', 'spadek cisnienia krwi'),\n",
    "      ('Ostra niewydolnosc nerek', 'niewydolnosc serca'),\n",
    "      ('Ostra niewydolnosc nerek', 'uszkodzenie miesni'),\n",
    "      ('Hipernatremia', 'niski poziom sodu'),\n",
    "      ('Zapasc plucna', 'zakrzepica zylna'),\n",
    "      ('Zapasc plucna', 'dlugotrwale unieruchomienie'),\n",
    "      ('Zapasc plucna', 'choroby serca'),\n",
    "      ('Zapasc plucna', 'trombofilia'),\n",
    "      ('Zapasc plucna', 'palenie papierosow'),\n",
    "      ('Zapasc plucna', 'zlamanie kosci'),\n",
    "      ('Choroby jatrogenne', 'niewlasciwa postawa wobec chorego przez lekarza'),\n",
    "      ('Choroby jatrogenne', 'niewlasciwie wykonane badanie'),\n",
    "      ('Choroby jatrogenne', 'blad lekarza'),\n",
    "      ('Obrzezanie', 'rodzice bedacy Zydami lub wyznawcami islamu'))\n"
   ]
  },
  {
   "cell_type": "code",
   "execution_count": 15,
   "metadata": {},
   "outputs": [
    {
     "data": {
      "text/plain": [
       "unification.variable.Var"
      ]
     },
     "execution_count": 15,
     "metadata": {},
     "output_type": "execute_result"
    }
   ],
   "source": [
    "question = var()\n",
    "type(question)"
   ]
  },
  {
   "cell_type": "code",
   "execution_count": 6,
   "metadata": {},
   "outputs": [
    {
     "name": "stdout",
     "output_type": "stream",
     "text": [
      "Symptomy dla danej choroby: \n",
      "('plytki i szybki oddech', 'dusznosc', 'bol w klatce piersiowej', 'krwioplucie', 'tachykardia')\n"
     ]
    }
   ],
   "source": [
    "print(\"Symptomy dla danej choroby: \")\n",
    "print((run(0, question, symptom('Zapasc plucna', question))))"
   ]
  },
  {
   "cell_type": "code",
   "execution_count": 7,
   "metadata": {},
   "outputs": [
    {
     "name": "stdout",
     "output_type": "stream",
     "text": [
      "Czynniki ryzyka dla danej choroby: \n",
      "('trombofilia', 'dlugotrwale unieruchomienie', 'zlamanie kosci', 'zakrzepica zylna', 'choroby serca', 'palenie papierosow')\n"
     ]
    }
   ],
   "source": [
    "print(\"Czynniki ryzyka dla danej choroby: \")\n",
    "print((run(0, question, ryzyko('Zapasc plucna', question))))"
   ]
  },
  {
   "cell_type": "code",
   "execution_count": 8,
   "metadata": {},
   "outputs": [],
   "source": [
    "def parent(prnt, child):\n",
    "    return conde([symptom(prnt, child)], [ryzyko(prnt, child)])"
   ]
  },
  {
   "cell_type": "code",
   "execution_count": 9,
   "metadata": {},
   "outputs": [
    {
     "name": "stdout",
     "output_type": "stream",
     "text": [
      "Choroba dla danych symptomow: \n",
      "('Ostra niewydolnosc nerek',)\n"
     ]
    }
   ],
   "source": [
    "print(\"Choroba dla danych symptomow: \")\n",
    "print((run(0, question, parent(question, 'krwotok'), parent(question, 'biegunka') )))\n"
   ]
  },
  {
   "cell_type": "code",
   "execution_count": 10,
   "metadata": {},
   "outputs": [
    {
     "name": "stdout",
     "output_type": "stream",
     "text": [
      "Symptomy i czynniki ryzyka dla danej choroby: \n",
      "('zgon', 'cukrzyca', 'pekniecie sciany naczynia', 'niewydolnosc nerek', 'udar mozgu', 'niestabilna choroba wiencowa', 'zaburzenia rytmu serca', 'zawal serca', 'stabilna choroba niedokrwienna')\n"
     ]
    }
   ],
   "source": [
    "print(\"Symptomy i czynniki ryzyka dla danej choroby: \")\n",
    "print((run(0, question, parent('Angioplastyka naczyn wiencowych', question))))"
   ]
  },
  {
   "cell_type": "code",
   "execution_count": 11,
   "metadata": {},
   "outputs": [
    {
     "name": "stdout",
     "output_type": "stream",
     "text": [
      "Choroba dla danych czynnikow ryzyka: \n",
      "('Zapasc plucna',)\n"
     ]
    }
   ],
   "source": [
    "print(\"Choroba dla danych czynnikow ryzyka: \")\n",
    "print((run(0, question, parent(question, 'palenie papierosow'))))"
   ]
  },
  {
   "cell_type": "code",
   "execution_count": 12,
   "metadata": {},
   "outputs": [],
   "source": [
    "#ZADANIE NR 2"
   ]
  },
  {
   "cell_type": "code",
   "execution_count": 13,
   "metadata": {},
   "outputs": [],
   "source": [
    "from sklearn import tree"
   ]
  },
  {
   "cell_type": "code",
   "execution_count": 14,
   "metadata": {},
   "outputs": [],
   "source": [
    "from sklearn import tree\n",
    "clf = tree.DecisionTreeClassifier()\n",
    "\n",
    "features = [\n",
    "    [1,1,1,0,0,0,0,0,0,0,0,0,0,0,0,0,0,0,0,0,0,0,0,1,1,0,0,0,0,0,0,0,0,0,0,0,0],\n",
    "    [0,0,0,1,1,1,0,0,0,0,0,0,0,0,0,0,0,0,0,0,0,0,0,0,0,1,1,1,0,0,0,0,0,0,0,0,0],\n",
    "    [0,0,0,0,0,0,1,1,1,0,0,0,0,0,0,0,0,0,0,0,0,0,0,1,0,0,0,0,1,1,1,0,0,0,0,0,0],\n",
    "    [0,0,0,0,0,0,0,0,0,1,1,0,0,0,0,0,0,0,0,0,0,0,0,1,0,0,0,0,1,0,0,0,0,0,0,0,0],\n",
    "    [0,0,0,0,0,0,0,0,0,0,0,1,1,1,0,0,0,0,0,0,0,0,0,0,0,0,0,0,0,0,0,1,1,0,0,0,0],\n",
    "    [0,0,0,0,0,0,0,0,0,0,0,0,0,0,1,1,1,0,0,0,0,0,0,0,0,0,0,0,0,0,0,0,0,1,1,0,0],\n",
    "    [0,0,0,0,0,0,0,0,0,0,0,0,0,0,0,0,0,1,1,1,0,0,0,0,0,0,0,1,0,0,0,0,0,0,0,1,0],\n",
    "    [0,0,0,0,0,0,0,0,0,0,0,0,0,0,0,0,0,0,0,0,1,1,1,0,0,0,0,1,0,0,0,0,0,0,0,0,1],\n",
    "]"
   ]
  },
  {
   "cell_type": "code",
   "execution_count": 17,
   "metadata": {},
   "outputs": [
    {
     "name": "stdout",
     "output_type": "stream",
     "text": [
      "Jest okej\n"
     ]
    }
   ],
   "source": [
    "choroba = [ 'Powiklania sercowe', 'Angioplastyka naczyn wiencowych', 'Zoltaczka noworodkowa wczesniaka', 'Ostra niewydolnosc nerek', 'Hipernatremia', 'Zapasc plucna', 'Choroby jatrogenne', 'Obrzezanie']\n",
    "print(\"Jest okej\")"
   ]
  },
  {
   "cell_type": "code",
   "execution_count": 18,
   "metadata": {},
   "outputs": [],
   "source": [
    "clf = tree.DecisionTreeClassifier()"
   ]
  },
  {
   "cell_type": "code",
   "execution_count": null,
   "metadata": {},
   "outputs": [],
   "source": []
  }
 ],
 "metadata": {
  "kernelspec": {
   "display_name": "Python 3",
   "language": "python",
   "name": "python3"
  },
  "language_info": {
   "codemirror_mode": {
    "name": "ipython",
    "version": 3
   },
   "file_extension": ".py",
   "mimetype": "text/x-python",
   "name": "python",
   "nbconvert_exporter": "python",
   "pygments_lexer": "ipython3",
   "version": "3.7.1"
  }
 },
 "nbformat": 4,
 "nbformat_minor": 2
}
